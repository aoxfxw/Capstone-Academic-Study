{
 "cells": [
  {
   "cell_type": "code",
   "execution_count": 1,
   "id": "340f64a9",
   "metadata": {},
   "outputs": [],
   "source": [
    "import pandas as pd\n",
    "import glob\n",
    "import os"
   ]
  },
  {
   "cell_type": "markdown",
   "id": "1a2ff70e",
   "metadata": {},
   "source": [
    "## Combine all CSV policy files"
   ]
  },
  {
   "cell_type": "code",
   "execution_count": 4,
   "id": "56cc4acb",
   "metadata": {},
   "outputs": [],
   "source": [
    "# Define the folder path containing the CSV files\n",
    "folder_path = r'C:\\Users\\aoife\\Documents\\Capstone\\1 Coding\\Policies'"
   ]
  },
  {
   "cell_type": "code",
   "execution_count": 5,
   "id": "9e9d485b",
   "metadata": {},
   "outputs": [],
   "source": [
    "# List to hold dataframes\n",
    "dfs = []"
   ]
  },
  {
   "cell_type": "code",
   "execution_count": 6,
   "id": "84fd0d1e",
   "metadata": {},
   "outputs": [],
   "source": [
    "# Iterate over all files in the folder\n",
    "for file_name in os.listdir(folder_path):\n",
    "    # Check if the file is a CSV file\n",
    "    if file_name.endswith('.csv'):\n",
    "        # Full file path\n",
    "        file_path = os.path.join(folder_path, file_name)\n",
    "        # Read the CSV file into a dataframe\n",
    "        df = pd.read_csv(file_path)\n",
    "        # Append the dataframe to the list\n",
    "        dfs.append(df)"
   ]
  },
  {
   "cell_type": "code",
   "execution_count": 7,
   "id": "5004e895",
   "metadata": {},
   "outputs": [],
   "source": [
    "# Concatenate all dataframes in the list into a single dataframe\n",
    "combined_df = pd.concat(dfs, ignore_index=True)"
   ]
  },
  {
   "cell_type": "code",
   "execution_count": 18,
   "id": "cc5b09c9",
   "metadata": {},
   "outputs": [],
   "source": [
    "# Save the combined dataframe to a new CSV file\n",
    "output_path = os.path.join(folder_path, 'csv_combined_policies.csv')\n",
    "combined_df.to_csv(output_path, index=False)\n",
    "\n",
    "print(f'Combined dataframe saved to {output_path}')"
   ]
  },
  {
   "cell_type": "code",
   "execution_count": 11,
   "id": "f935a6ce",
   "metadata": {},
   "outputs": [
    {
     "data": {
      "text/html": [
       "<div>\n",
       "<style scoped>\n",
       "    .dataframe tbody tr th:only-of-type {\n",
       "        vertical-align: middle;\n",
       "    }\n",
       "\n",
       "    .dataframe tbody tr th {\n",
       "        vertical-align: top;\n",
       "    }\n",
       "\n",
       "    .dataframe thead th {\n",
       "        text-align: right;\n",
       "    }\n",
       "</style>\n",
       "<table border=\"1\" class=\"dataframe\">\n",
       "  <thead>\n",
       "    <tr style=\"text-align: right;\">\n",
       "      <th></th>\n",
       "      <th>Sentence</th>\n",
       "    </tr>\n",
       "  </thead>\n",
       "  <tbody>\n",
       "    <tr>\n",
       "      <th>0</th>\n",
       "      <td>['version', 'august', 'page', 'of', 'year', 'o...</td>\n",
       "    </tr>\n",
       "    <tr>\n",
       "      <th>1</th>\n",
       "      <td>['introduction', 'the', 'university', 'of', 'b...</td>\n",
       "    </tr>\n",
       "    <tr>\n",
       "      <th>2</th>\n",
       "      <td>['as', 'a', 'provider', 'of', 'education', 'we...</td>\n",
       "    </tr>\n",
       "    <tr>\n",
       "      <th>3</th>\n",
       "      <td>['we', 'aim', 'to', 'create', 'an', 'environme...</td>\n",
       "    </tr>\n",
       "    <tr>\n",
       "      <th>4</th>\n",
       "      <td>['legal', 'context', 'for', 'the', 'purpose', ...</td>\n",
       "    </tr>\n",
       "    <tr>\n",
       "      <th>...</th>\n",
       "      <td>...</td>\n",
       "    </tr>\n",
       "    <tr>\n",
       "      <th>866</th>\n",
       "      <td>['equality', 'diversity', 'and', 'inclusion', ...</td>\n",
       "    </tr>\n",
       "    <tr>\n",
       "      <th>867</th>\n",
       "      <td>['legislative', 'context', 'and', 'higher', 'e...</td>\n",
       "    </tr>\n",
       "    <tr>\n",
       "      <th>868</th>\n",
       "      <td>['health', 'and', 'safety', 'health', 'and', '...</td>\n",
       "    </tr>\n",
       "    <tr>\n",
       "      <th>869</th>\n",
       "      <td>['stakeholder', 'engagement', 'and', 'equality...</td>\n",
       "    </tr>\n",
       "    <tr>\n",
       "      <th>870</th>\n",
       "      <td>['stakeholder', 'consultation', 'wa', 'complet...</td>\n",
       "    </tr>\n",
       "  </tbody>\n",
       "</table>\n",
       "<p>871 rows × 1 columns</p>\n",
       "</div>"
      ],
      "text/plain": [
       "                                              Sentence\n",
       "0    ['version', 'august', 'page', 'of', 'year', 'o...\n",
       "1    ['introduction', 'the', 'university', 'of', 'b...\n",
       "2    ['as', 'a', 'provider', 'of', 'education', 'we...\n",
       "3    ['we', 'aim', 'to', 'create', 'an', 'environme...\n",
       "4    ['legal', 'context', 'for', 'the', 'purpose', ...\n",
       "..                                                 ...\n",
       "866  ['equality', 'diversity', 'and', 'inclusion', ...\n",
       "867  ['legislative', 'context', 'and', 'higher', 'e...\n",
       "868  ['health', 'and', 'safety', 'health', 'and', '...\n",
       "869  ['stakeholder', 'engagement', 'and', 'equality...\n",
       "870  ['stakeholder', 'consultation', 'wa', 'complet...\n",
       "\n",
       "[871 rows x 1 columns]"
      ]
     },
     "execution_count": 11,
     "metadata": {},
     "output_type": "execute_result"
    }
   ],
   "source": [
    "combined_df"
   ]
  },
  {
   "cell_type": "code",
   "execution_count": null,
   "id": "fd5fa365",
   "metadata": {},
   "outputs": [],
   "source": []
  },
  {
   "cell_type": "markdown",
   "id": "1567f831",
   "metadata": {},
   "source": [
    "## Combine all Excel policy files"
   ]
  },
  {
   "cell_type": "code",
   "execution_count": 12,
   "id": "14db8315",
   "metadata": {},
   "outputs": [],
   "source": [
    "# Define the folder path containing the Excel files\n",
    "folder_path = r'C:\\Users\\aoife\\Documents\\Capstone\\1 Coding\\Policies'"
   ]
  },
  {
   "cell_type": "code",
   "execution_count": 13,
   "id": "a8759e92",
   "metadata": {},
   "outputs": [],
   "source": [
    "# List to hold dataframes\n",
    "ffs = []\n"
   ]
  },
  {
   "cell_type": "code",
   "execution_count": 21,
   "id": "bf2cea58",
   "metadata": {},
   "outputs": [],
   "source": [
    "# Iterate over all files in the folder\n",
    "for file_name in os.listdir(folder_path):\n",
    "    # Check if the file is an Excel file\n",
    "    if file_name.endswith('.xlsx') or file_name.endswith('.xls'):\n",
    "        # Full file path\n",
    "        file_path = os.path.join(folder_path, file_name)\n",
    "        # Read the Excel file into a dataframe\n",
    "        ff = pd.read_excel(file_path)\n",
    "        # Append the dataframe to the list\n",
    "        ffs.append(ff)"
   ]
  },
  {
   "cell_type": "code",
   "execution_count": 22,
   "id": "63119d90",
   "metadata": {},
   "outputs": [],
   "source": [
    "# Concatenate all dataframes in the list into a single dataframe\n",
    "combined_ff = pd.concat(ffs, ignore_index=True)"
   ]
  },
  {
   "cell_type": "code",
   "execution_count": 23,
   "id": "df1a3df8",
   "metadata": {},
   "outputs": [
    {
     "name": "stdout",
     "output_type": "stream",
     "text": [
      "Combined dataframe saved to C:\\Users\\aoife\\Documents\\Capstone\\1 Coding\\Policies\\exc_combined_policies.xlsx\n"
     ]
    }
   ],
   "source": [
    "# Optionally, save the combined dataframe to a new Excel file\n",
    "output_path = os.path.join(folder_path, 'exc_combined_policies.xlsx')\n",
    "combined_ff.to_excel(output_path, index=False)\n",
    "\n",
    "print(f'Combined dataframe saved to {output_path}')"
   ]
  },
  {
   "cell_type": "code",
   "execution_count": 24,
   "id": "d00d2d90",
   "metadata": {},
   "outputs": [
    {
     "data": {
      "text/html": [
       "<div>\n",
       "<style scoped>\n",
       "    .dataframe tbody tr th:only-of-type {\n",
       "        vertical-align: middle;\n",
       "    }\n",
       "\n",
       "    .dataframe tbody tr th {\n",
       "        vertical-align: top;\n",
       "    }\n",
       "\n",
       "    .dataframe thead th {\n",
       "        text-align: right;\n",
       "    }\n",
       "</style>\n",
       "<table border=\"1\" class=\"dataframe\">\n",
       "  <thead>\n",
       "    <tr style=\"text-align: right;\">\n",
       "      <th></th>\n",
       "      <th>Unnamed: 0</th>\n",
       "      <th>Sentence</th>\n",
       "    </tr>\n",
       "  </thead>\n",
       "  <tbody>\n",
       "    <tr>\n",
       "      <th>0</th>\n",
       "      <td>0</td>\n",
       "      <td>['version', 'august', 'page', 'of', 'year', 'o...</td>\n",
       "    </tr>\n",
       "    <tr>\n",
       "      <th>1</th>\n",
       "      <td>1</td>\n",
       "      <td>['introduction', 'the', 'university', 'of', 'b...</td>\n",
       "    </tr>\n",
       "    <tr>\n",
       "      <th>2</th>\n",
       "      <td>2</td>\n",
       "      <td>['as', 'a', 'provider', 'of', 'education', 'we...</td>\n",
       "    </tr>\n",
       "    <tr>\n",
       "      <th>3</th>\n",
       "      <td>3</td>\n",
       "      <td>['we', 'aim', 'to', 'create', 'an', 'environme...</td>\n",
       "    </tr>\n",
       "    <tr>\n",
       "      <th>4</th>\n",
       "      <td>4</td>\n",
       "      <td>['legal', 'context', 'for', 'the', 'purpose', ...</td>\n",
       "    </tr>\n",
       "    <tr>\n",
       "      <th>...</th>\n",
       "      <td>...</td>\n",
       "      <td>...</td>\n",
       "    </tr>\n",
       "    <tr>\n",
       "      <th>2608</th>\n",
       "      <td>172</td>\n",
       "      <td>['equality', 'diversity', 'and', 'inclusion', ...</td>\n",
       "    </tr>\n",
       "    <tr>\n",
       "      <th>2609</th>\n",
       "      <td>173</td>\n",
       "      <td>['legislative', 'context', 'and', 'higher', 'e...</td>\n",
       "    </tr>\n",
       "    <tr>\n",
       "      <th>2610</th>\n",
       "      <td>174</td>\n",
       "      <td>['health', 'and', 'safety', 'health', 'and', '...</td>\n",
       "    </tr>\n",
       "    <tr>\n",
       "      <th>2611</th>\n",
       "      <td>175</td>\n",
       "      <td>['stakeholder', 'engagement', 'and', 'equality...</td>\n",
       "    </tr>\n",
       "    <tr>\n",
       "      <th>2612</th>\n",
       "      <td>176</td>\n",
       "      <td>['stakeholder', 'consultation', 'wa', 'complet...</td>\n",
       "    </tr>\n",
       "  </tbody>\n",
       "</table>\n",
       "<p>2613 rows × 2 columns</p>\n",
       "</div>"
      ],
      "text/plain": [
       "      Unnamed: 0                                           Sentence\n",
       "0              0  ['version', 'august', 'page', 'of', 'year', 'o...\n",
       "1              1  ['introduction', 'the', 'university', 'of', 'b...\n",
       "2              2  ['as', 'a', 'provider', 'of', 'education', 'we...\n",
       "3              3  ['we', 'aim', 'to', 'create', 'an', 'environme...\n",
       "4              4  ['legal', 'context', 'for', 'the', 'purpose', ...\n",
       "...          ...                                                ...\n",
       "2608         172  ['equality', 'diversity', 'and', 'inclusion', ...\n",
       "2609         173  ['legislative', 'context', 'and', 'higher', 'e...\n",
       "2610         174  ['health', 'and', 'safety', 'health', 'and', '...\n",
       "2611         175  ['stakeholder', 'engagement', 'and', 'equality...\n",
       "2612         176  ['stakeholder', 'consultation', 'wa', 'complet...\n",
       "\n",
       "[2613 rows x 2 columns]"
      ]
     },
     "execution_count": 24,
     "metadata": {},
     "output_type": "execute_result"
    }
   ],
   "source": [
    "combined_ff"
   ]
  },
  {
   "cell_type": "code",
   "execution_count": null,
   "id": "80d4ac3e",
   "metadata": {},
   "outputs": [],
   "source": []
  }
 ],
 "metadata": {
  "kernelspec": {
   "display_name": "Python 3 (ipykernel)",
   "language": "python",
   "name": "python3"
  },
  "language_info": {
   "codemirror_mode": {
    "name": "ipython",
    "version": 3
   },
   "file_extension": ".py",
   "mimetype": "text/x-python",
   "name": "python",
   "nbconvert_exporter": "python",
   "pygments_lexer": "ipython3",
   "version": "3.11.7"
  }
 },
 "nbformat": 4,
 "nbformat_minor": 5
}
